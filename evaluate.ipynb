{
 "cells": [
  {
   "cell_type": "code",
   "execution_count": 1,
   "id": "edf6453d",
   "metadata": {},
   "outputs": [],
   "source": [
    "import pandas as pd\n",
    "import numpy as np\n",
    "import pickle\n",
    "from sklearn.model_selection import train_test_split\n",
    "from sklearn.ensemble import RandomForestRegressor\n",
    "from sklearn.metrics import mean_absolute_error, mean_squared_error, r2_score\n",
    "from sklearn.preprocessing import LabelEncoder\n",
    "import joblib"
   ]
  },
  {
   "cell_type": "code",
   "execution_count": 2,
   "id": "9bfbe95d",
   "metadata": {},
   "outputs": [],
   "source": [
    "# ===== 1. Đọc dữ liệu =====\n",
    "df = pd.read_csv(\"data/HousePrice_processed.csv\")\n",
    "\n",
    "# Các cột muốn giữ lại nhưng không đưa vào train\n",
    "keep_cols = [\"Title\", \"Description\"]\n",
    "\n",
    "# Cột target\n",
    "target_col = \"Amount\"\n",
    "\n",
    "# Xác định cột categorical\n",
    "categorical_cols = df.select_dtypes(include=[\"object\"]).columns.tolist()\n",
    "categorical_cols = [col for col in categorical_cols if col not in keep_cols + [target_col]]"
   ]
  },
  {
   "cell_type": "code",
   "execution_count": 3,
   "id": "d0f7d028",
   "metadata": {},
   "outputs": [],
   "source": [
    "encoders = {}\n",
    "for col in categorical_cols:\n",
    "    le = LabelEncoder()\n",
    "    df[col] = le.fit_transform(df[col].astype(str))\n",
    "    encoders[col] = le"
   ]
  },
  {
   "cell_type": "code",
   "execution_count": 4,
   "id": "d8777804",
   "metadata": {},
   "outputs": [],
   "source": [
    "# ===== 3. Tách features / target =====\n",
    "X = df.drop(columns=[target_col] + keep_cols)\n",
    "y = df[target_col]"
   ]
  },
  {
   "cell_type": "code",
   "execution_count": 5,
   "id": "5ab36330",
   "metadata": {},
   "outputs": [],
   "source": [
    "# ===== 4. Train/Test Split =====\n",
    "X_train, X_test, y_train, y_test = train_test_split(X, y, test_size=0.2, random_state=42)"
   ]
  },
  {
   "cell_type": "code",
   "execution_count": 7,
   "id": "0c671359",
   "metadata": {},
   "outputs": [
    {
     "name": "stdout",
     "output_type": "stream",
     "text": [
      "Random Forest:\n",
      "R-squared: 0.97\n",
      "Mean Absolute Error (MAE): 310626.94\n",
      "Root Mean Squared Error (MSE): 2393135.51\n",
      "----------------------------------------\n",
      "Gradient Boosting:\n",
      "R-squared: 0.60\n",
      "Mean Absolute Error (MAE): 2255247.70\n",
      "Root Mean Squared Error (MSE): 8966204.81\n",
      "----------------------------------------\n"
     ]
    },
    {
     "name": "stderr",
     "output_type": "stream",
     "text": [
      "g:\\MyProject\\cuda\\Lib\\site-packages\\xgboost\\training.py:183: UserWarning: [22:57:27] WARNING: C:\\actions-runner\\_work\\xgboost\\xgboost\\src\\learner.cc:738: \n",
      "Parameters: { \"missing_values\" } are not used.\n",
      "\n",
      "  bst.update(dtrain, iteration=i, fobj=obj)\n"
     ]
    },
    {
     "name": "stdout",
     "output_type": "stream",
     "text": [
      "XGBoost:\n",
      "R-squared: 0.97\n",
      "Mean Absolute Error (MAE): 415563.37\n",
      "Root Mean Squared Error (MSE): 2628112.72\n",
      "----------------------------------------\n"
     ]
    }
   ],
   "source": [
    "from sklearn.linear_model import LinearRegression\n",
    "from sklearn.ensemble import RandomForestRegressor\n",
    "from sklearn.ensemble import GradientBoostingRegressor\n",
    "from sklearn.ensemble import HistGradientBoostingRegressor\n",
    "\n",
    "from xgboost import XGBRegressor\n",
    "from sklearn.metrics import r2_score, mean_absolute_error, mean_squared_error\n",
    "\n",
    "models = {\n",
    "    'Random Forest': RandomForestRegressor(random_state=42, n_jobs=-1, n_estimators=200, max_depth=None),\n",
    "    'Gradient Boosting': HistGradientBoostingRegressor(random_state=42),\n",
    "    'XGBoost': XGBRegressor(random_state=42, n_jobs=-1, n_estimators=200, max_depth=None,missing_values='auto')\n",
    "}\n",
    "\n",
    "for model_name, model in models.items():\n",
    "    model.fit(X_train, y_train)\n",
    "    y_pred = model.predict(X_test)\n",
    "\n",
    "    # Evaluate the model\n",
    "    r2 = r2_score(y_test, y_pred)\n",
    "    mae = mean_absolute_error(y_test, y_pred)\n",
    "    rmse = mean_squared_error(y_test, y_pred) ** 0.5\n",
    "\n",
    "    print(f'{model_name}:')\n",
    "    print(f'R-squared: {r2:.2f}')\n",
    "    print(f'Mean Absolute Error (MAE): {mae:.2f}')\n",
    "    print(f'Root Mean Squared Error (MSE): {rmse:.2f}')\n",
    "    print('----------------------------------------')"
   ]
  },
  {
   "cell_type": "code",
   "execution_count": null,
   "id": "b26d7beb",
   "metadata": {},
   "outputs": [],
   "source": []
  }
 ],
 "metadata": {
  "kernelspec": {
   "display_name": "cuda-gpt",
   "language": "python",
   "name": "cuda"
  },
  "language_info": {
   "codemirror_mode": {
    "name": "ipython",
    "version": 3
   },
   "file_extension": ".py",
   "mimetype": "text/x-python",
   "name": "python",
   "nbconvert_exporter": "python",
   "pygments_lexer": "ipython3",
   "version": "3.12.7"
  }
 },
 "nbformat": 4,
 "nbformat_minor": 5
}
